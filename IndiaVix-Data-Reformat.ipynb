{
 "cells": [
  {
   "cell_type": "code",
   "execution_count": 32,
   "id": "026915b0-7cf3-44a2-9899-e73b19a32f15",
   "metadata": {},
   "outputs": [],
   "source": [
    "import pandas_datareader.data as web \n",
    "import pandas as pd \n",
    "import numpy as np \n",
    "import yfinance as yf \n",
    "from datetime import datetime, date, time \n",
    "import matplotlib.pyplot as plt \n",
    "%matplotlib inline "
   ]
  },
  {
   "cell_type": "code",
   "execution_count": 5,
   "id": "c780589d-7947-4fc5-913f-e2a013367899",
   "metadata": {},
   "outputs": [],
   "source": [
    "f = open('indiavix_data.json', 'r')\n",
    "data = f.read()\n",
    "f.close()"
   ]
  },
  {
   "cell_type": "code",
   "execution_count": null,
   "id": "3a14bb11-b451-4c56-a755-71465e180349",
   "metadata": {},
   "outputs": [],
   "source": [
    "data = ast.literal_eval(data)\n",
    "df = pd.DataFrame(data['data'])\n",
    "df = df[['rowDateTimestamp', 'last_open', 'last_max', 'last_min', 'last_close']]\n",
    "df.columns = ['date', 'open', 'high', 'low', 'close']\n",
    "df['date'] = df['date'].apply(lambda x: pd.Timestamp(x).date())\n",
    "df = df.sort_values(['date'], ascending=True)"
   ]
  },
  {
   "cell_type": "code",
   "execution_count": 27,
   "id": "d21490ef-a356-4353-a77a-c911d006e9f5",
   "metadata": {},
   "outputs": [],
   "source": [
    "df.to_csv('indiavix.csv', index=False)"
   ]
  }
 ],
 "metadata": {
  "kernelspec": {
   "display_name": "Python 3 (ipykernel)",
   "language": "python",
   "name": "python3"
  },
  "language_info": {
   "codemirror_mode": {
    "name": "ipython",
    "version": 3
   },
   "file_extension": ".py",
   "mimetype": "text/x-python",
   "name": "python",
   "nbconvert_exporter": "python",
   "pygments_lexer": "ipython3",
   "version": "3.12.1"
  }
 },
 "nbformat": 4,
 "nbformat_minor": 5
}
